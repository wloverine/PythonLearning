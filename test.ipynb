{
 "metadata": {
  "language_info": {
   "codemirror_mode": {
    "name": "ipython",
    "version": 3
   },
   "file_extension": ".py",
   "mimetype": "text/x-python",
   "name": "python",
   "nbconvert_exporter": "python",
   "pygments_lexer": "ipython3",
   "version": "3.9.1-final"
  },
  "orig_nbformat": 2,
  "kernelspec": {
   "name": "python3",
   "display_name": "Python 3.9.1 64-bit",
   "metadata": {
    "interpreter": {
     "hash": "3d7060d2a040c8738795fc6b309d3c50921f75c347dd25afa6fabdb994d4c0d3"
    }
   }
  }
 },
 "nbformat": 4,
 "nbformat_minor": 2,
 "cells": [
  {
   "cell_type": "code",
   "execution_count": null,
   "metadata": {},
   "outputs": [],
   "source": [
    "age=20\n",
    "if age>6:\n",
    "    print('teenager')\n",
    "elif age>18:\n",
    "    print('adult')\n",
    "else:\n",
    "    print('old man')"
   ]
  },
  {
   "cell_type": "code",
   "execution_count": null,
   "metadata": {},
   "outputs": [],
   "source": [
    "if 0:\n",
    "    print('aa')"
   ]
  },
  {
   "cell_type": "code",
   "execution_count": null,
   "metadata": {},
   "outputs": [],
   "source": [
    "birth=input('请输入你的生日:\\n')\n",
    "if int(birth)>=2000:\n",
    "    print('00后')\n",
    "else:\n",
    "    print('sd')"
   ]
  },
  {
   "cell_type": "code",
   "execution_count": null,
   "metadata": {},
   "outputs": [],
   "source": [
    "# 小明身高1.75，体重80.5kg。请根据BMI公式（体重除以身高的平方）帮小明计算他的BMI指数，并根据BMI指数：\n",
    "# 低于18.5：过轻\n",
    "# 18.5-25：正常\n",
    "# 25-28：过重\n",
    "# 28-32：肥胖\n",
    "# 高于32：严重肥胖\n",
    "# 用if-elif判断并打印结果：\n",
    "height = 1.75\n",
    "weight = 80.5\n",
    "\n",
    "bmi = weight / pow(height,2)\n",
    "print(round(bmi,1))\n",
    "\n",
    "if bmi < 18.5:\n",
    "    print('过轻')\n",
    "elif bmi < 25:\n",
    "    print('正常')\n",
    "elif bmi < 28:\n",
    "    print('过重')\n",
    "elif bmi < 32:\n",
    "    print('肥胖')\n",
    "else:\n",
    "    print('严重肥胖')"
   ]
  },
  {
   "cell_type": "code",
   "execution_count": null,
   "metadata": {},
   "outputs": [],
   "source": [
    "sum=0\n",
    "for i in range(101):\n",
    "    sum = sum+i\n",
    "print(sum)"
   ]
  },
  {
   "cell_type": "code",
   "execution_count": null,
   "metadata": {},
   "outputs": [],
   "source": [
    "import time\n",
    "for i in range(100):\n",
    "    print(i)\n",
    "    time.sleep(1)"
   ]
  },
  {
   "cell_type": "code",
   "execution_count": null,
   "metadata": {},
   "outputs": [],
   "source": [
    "sum = 0\n",
    "i=100\n",
    "while i>0:\n",
    "    if i%2 != 0:\n",
    "        sum=sum+i\n",
    "    i=i-1\n",
    "print(sum)\n"
   ]
  },
  {
   "cell_type": "code",
   "execution_count": null,
   "metadata": {},
   "outputs": [],
   "source": [
    "n = 1\n",
    "while n <= 100:\n",
    "    if n > 10: # 当n = 11时，条件满足，执行break语句\n",
    "        break # break语句会结束当前循环\n",
    "    print(n)\n",
    "    n = n + 1\n",
    "print('END')"
   ]
  },
  {
   "cell_type": "code",
   "execution_count": null,
   "metadata": {},
   "outputs": [],
   "source": [
    "for i in range(11):\n",
    "    if i%2 != 0: #奇数不打印\n",
    "        continue\n",
    "    print(i)"
   ]
  },
  {
   "cell_type": "code",
   "execution_count": null,
   "metadata": {},
   "outputs": [],
   "source": [
    "n1 = 255\n",
    "n2 = 1000\n",
    "for x in(n1, n2):\n",
    "    print(x, '转化为十六进制表示的字符串为: {0}'.format(hex(x)))"
   ]
  },
  {
   "cell_type": "code",
   "execution_count": null,
   "metadata": {},
   "outputs": [],
   "source": [
    "#实现绝对值函数\n",
    "def my_abs(x):\n",
    "    if not isinstance(x,(int,float)):\n",
    "        raise TypeError('bad operand type')\n",
    "    if x > 0:\n",
    "        return x\n",
    "    else:\n",
    "        return -x\n",
    "\n",
    "print(my_abs('a'))"
   ]
  },
  {
   "cell_type": "code",
   "execution_count": null,
   "metadata": {},
   "outputs": [],
   "source": [
    "def add_end(l=None):\n",
    "    if l is None:\n",
    "        l=[]\n",
    "    l.append('end')\n",
    "    return l"
   ]
  },
  {
   "cell_type": "code",
   "execution_count": null,
   "metadata": {},
   "outputs": [],
   "source": [
    "#定义可变参数函数,求总和\n",
    "def cal(*numbers):\n",
    "    sum = 0\n",
    "    for i in numbers:\n",
    "        sum = sum+i\n",
    "    return sum\n",
    "\n",
    "print(cal(1,2,3))"
   ]
  },
  {
   "cell_type": "code",
   "execution_count": null,
   "metadata": {},
   "outputs": [],
   "source": [
    "#关键字参数\n",
    "def person(name,age,**kw):\n",
    "    print(f'name:{name},age:{age},other:{kw}')\n",
    "\n",
    "person('aa',20,)\n",
    "person('aa',20,gender='male',city='shanghai')\n",
    "person('aa',20,**{'job':'ceo'})"
   ]
  },
  {
   "cell_type": "code",
   "execution_count": null,
   "metadata": {},
   "outputs": [],
   "source": [
    "#命名关键字参数\n",
    "def person(name,age,*,city,job):\n",
    "    print(name,age,city,job)\n",
    "\n",
    "person('aa',20,city='shanghai',job='ceo',gender='male')\n"
   ]
  },
  {
   "cell_type": "code",
   "execution_count": null,
   "metadata": {},
   "outputs": [],
   "source": [
    "def person(name,age,city,job,**kw):\n",
    "    print(name,age,city,job,kw)\n",
    "\n",
    "person('aa',20,city='beijing',job='ceo')"
   ]
  },
  {
   "cell_type": "code",
   "execution_count": null,
   "metadata": {},
   "outputs": [],
   "source": [
    "def product(*nums):\n",
    "    res=1\n",
    "    if len(nums)==0:\n",
    "        raise TypeError('没有参数')\n",
    "    for i in nums:\n",
    "        res=res*i\n",
    "    return res\n",
    "\n",
    "print(product(1))\n",
    "print(product(1,2,3))\n",
    "print(product(1,4,5))\n",
    "print(product(1,2,3,4,5,6))\n",
    "print(product())"
   ]
  },
  {
   "cell_type": "code",
   "execution_count": null,
   "metadata": {},
   "outputs": [],
   "source": [
    "#递归函数实现n的阶乘\n",
    "def fact(n):\n",
    "    if n==1:\n",
    "        return 1\n",
    "    return n * fact(n-1)\n",
    "\n",
    "fact(10)"
   ]
  },
  {
   "cell_type": "code",
   "execution_count": null,
   "metadata": {},
   "outputs": [],
   "source": [
    "#汉诺塔游戏\n",
    "def move(n,a,b,c):\n",
    "    if n == 1:\n",
    "        print(a,'-->',c)\n",
    "    else:\n",
    "        move(n-1,a,c,b)\n",
    "        move(1,a,b,c)\n",
    "        move(n-1,b,a,c)\n",
    "\n",
    "move(4,'a','b','c')"
   ]
  },
  {
   "cell_type": "code",
   "execution_count": null,
   "metadata": {},
   "outputs": [],
   "source": [
    "l1=('aa','bb','cc','dd')\n",
    "print(l1[0:3]) #从索引0开始取，但是不包括索引3，所以会取到0，1，2\n",
    "print(l1[:3]) #如果第一个索引是0，还可以这么写  l[:3]\n",
    "print(l1[-1]) #取倒数第一个\n",
    "print(l1[-4:]) #倒数切片"
   ]
  },
  {
   "cell_type": "code",
   "execution_count": null,
   "metadata": {},
   "outputs": [],
   "source": [
    "l2=list(range(100))\n",
    "print(l2[:10:2]) #前十个数，每两个取一个数\n",
    "print(l2[::5]) #所有的数，每五个取一个数\n",
    "print(l2[:]) #什么都不写，就复制了一个list"
   ]
  },
  {
   "cell_type": "code",
   "execution_count": null,
   "metadata": {},
   "outputs": [],
   "source": [
    "#利用切片去除字符串首尾的空格\n",
    "def trim(s):\n",
    "    while s[:1]==\" \":\n",
    "\n",
    "        s=s[1:]\n",
    "\n",
    "    while s[-1:]==\" \":\n",
    "\n",
    "        s=s[:-1]\n",
    "\n",
    "    return s\n",
    "\n",
    "trim(' ')"
   ]
  },
  {
   "cell_type": "code",
   "execution_count": null,
   "metadata": {},
   "outputs": [],
   "source": [
    "#使用迭代获取list中的最大和最小值\n",
    "def findMaxAndMin(l):\n",
    "    if len(l)==0:\n",
    "        return(None,None)\n",
    "    max=l[0]\n",
    "    min=l[0]\n",
    "    for i in l :\n",
    "        if i>=max:\n",
    "            max=i\n",
    "        if i<=min:\n",
    "            min=i\n",
    "    return (max,min)\n",
    "\n",
    "\n",
    "if findMaxAndMin([]) != (None, None):\n",
    "    print('1测试失败!')\n",
    "elif findMaxAndMin([7]) != (7, 7):\n",
    "    print('2测试失败!')\n",
    "elif findMaxAndMin([7, 1]) != (7, 1):\n",
    "    print('3测试失败!')\n",
    "elif findMaxAndMin([7, 1, 3, 9, 5]) != (9, 1):\n",
    "    print('4测试失败!')\n",
    "else:\n",
    "    print('5测试成功!')"
   ]
  },
  {
   "cell_type": "code",
   "execution_count": null,
   "metadata": {},
   "outputs": [],
   "source": [
    "g=(x**2 for x in range(10))"
   ]
  },
  {
   "cell_type": "code",
   "execution_count": null,
   "metadata": {},
   "outputs": [],
   "source": [
    "next(g)"
   ]
  },
  {
   "cell_type": "code",
   "execution_count": null,
   "metadata": {},
   "outputs": [],
   "source": [
    "def fib(max):\n",
    "    n, a, b = 0, 0, 1\n",
    "    while n < max:\n",
    "        print(b)\n",
    "        a, b = b, a + b\n",
    "        n = n + 1\n",
    "    return 'done'\n",
    "fib(6)"
   ]
  },
  {
   "cell_type": "code",
   "execution_count": null,
   "metadata": {},
   "outputs": [],
   "source": []
  }
 ]
}